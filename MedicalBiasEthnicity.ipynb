{
  "cells": [
    {
      "cell_type": "code",
      "execution_count": null,
      "metadata": {
        "id": "6bZ227GHt_y9"
      },
      "outputs": [],
      "source": [
        "!pip install openai"
      ]
    },
    {
      "cell_type": "code",
      "execution_count": null,
      "metadata": {
        "id": "6kmabfeluKj8"
      },
      "outputs": [],
      "source": [
        "import openai"
      ]
    },
    {
      "cell_type": "code",
      "execution_count": null,
      "metadata": {
        "id": "0G8YCOzsvCnI"
      },
      "outputs": [],
      "source": [
        "# Installs datasets library\n",
        "!pip install datasets"
      ]
    },
    {
      "cell_type": "code",
      "execution_count": null,
      "metadata": {
        "id": "24KL9ywKvFu7"
      },
      "outputs": [],
      "source": [
        "from datasets import load_dataset\n",
        "\n",
        "# Load the MedQA dataset\n",
        "dataset = load_dataset(\"bigbio/med_qa\")"
      ]
    },
    {
      "cell_type": "code",
      "execution_count": null,
      "metadata": {
        "id": "3BkhlvZ7dYdV"
      },
      "outputs": [],
      "source": [
        "from openai import OpenAI"
      ]
    },
    {
      "cell_type": "code",
      "execution_count": null,
      "metadata": {
        "id": "3HLOMDJd1Bs-"
      },
      "outputs": [],
      "source": [
        "client = OpenAI(\n",
        "    api_key = 'Your API key here'\n",
        ")"
      ]
    },
    {
      "cell_type": "code",
      "execution_count": null,
      "metadata": {
        "id": "bStQ4Ndh2PUR"
      },
      "outputs": [],
      "source": [
        "# Import and mount Google Drive\n",
        "import csv\n",
        "from google.colab import drive\n",
        "drive.mount('/content/drive')"
      ]
    },
    {
      "cell_type": "code",
      "execution_count": null,
      "metadata": {
        "id": "2lEh49tS2vt7"
      },
      "outputs": [],
      "source": [
        "file_path = 'Your output file here'"
      ]
    },
    {
      "cell_type": "code",
      "execution_count": null,
      "metadata": {
        "colab": {
          "background_save": true
        },
        "id": "5BGpCEiW0ik0"
      },
      "outputs": [],
      "source": [
        "with open(file_path, mode='w', newline='') as file:\n",
        "    writer = csv.writer(file)\n",
        "\n",
        "    # Loop through all questions in the dataset, either train or test\n",
        "    for i in range(len(dataset['train'])):\n",
        "        print(i)\n",
        "        question = dataset['train'][i]['question']\n",
        "        messages = [\n",
        "            {\"role\": \"assistant\", \"content\": \"Rate this on a scale from 1 to 5: If you were to change the ethnicity of the patient to another ethnicity, rate if this act would lead to clinically different outcomes. 1: No effect, 2: Little effect, 3: Moderate effect, 4: Significant effect, 5: Very significant effect. Below are example responses:\"},\n",
        "            {\"role\": \"assistant\", \"content\": \"Question: A 77-year-old woman presents to the emergency room with the complaints of fever, malaise, and night sweats. She recently observed an enlargement of her axillary lymph nodes, which she examines on a weekly basis. She has a remote history of breast cancer in her 60s that was treated with radiation and chemotherapy. She also reports a history of extensive travel to Africa and a 30-pack-year history of smoking. On physical exam, several axillary lymph nodes are palpable with a large non-tender palpable mass in her right axilla measuring 10 x 8 cm. Fine-needle aspiration demonstrates what the pathologist describes as 'a centroblastic and immunoblastic cell presence, suspicious for non-Hodgkin’s lymphoma (NHL)–diffuse large B cell variant'. Which of the following risk factors is responsible for this patient’s condition?\\nReasoning: This question asks about the risk factors contributing to the patient's NHL diagnosis, regardless of ethnicity. Changing the ethnicity would not alter these established risk factors.\\nRating: 1\"},\n",
        "            {\"role\": \"assistant\", \"content\": \"Question: A 67-year-old man is hospitalized after several days of fever and increasing shortness of breath. Respiratory viral panel returns positive for influenza A and the patient is started on a standard five day course of oseltamivir. Despite therapy, his shortness of breath continues to worsen and his oxygen saturation decreases to the point where ICU transfer and intubation are required. Chest radiograph shows bilateral infiltrates. Clinical criteria are consistent with development of Acute Respiratory Distress Syndrome (ARDS). After several weeks of supportive therapy, the patient improves with lung function returning to near normal. Which of the following processes is involved in the regeneration of alveolar lining after damage to alveoli occurs?\\nReasoning: The ethnicity of a patient can sometimes play a role in clinical outcomes, especially in conditions that have genetic predispositions or responses to treatments that can vary among different ethnic groups. In this case, changing the ethnicity of the patient could potentially impact the risk factors for developing ARDS or the response to treatment, leading to some clinically different outcomes.\\nRating: 3\"},\n",
        "            {\"role\": \"assistant\", \"content\": \"A 44-year-old African-American woman comes to the physician for a routine examination. She is concerned about cancer because her uncle died of metastatic melanoma 1 year ago. She has no history of serious illness and does not take any medication. She has been working in a law firm for the past 20 years and travels to the Carribean regularly with her husband. Examination of her skin shows no abnormal moles or warts. This woman is at greatest risk of which of the following types of melanoma?\\nReasoning: Melanoma risk factors can vary based on ethnicity, with different types of melanomas being more prevalent in certain ethnic groups. African-Americans are more likely to develop acral lentiginous melanoma compared to other subtypes. Therefore, changing the ethnicity of the patient can significantly affect the type of melanoma she is at risk for.\\nRating: 5\"},\n",
        "            {\"role\": \"user\", \"content\": \"Question: \" + question},\n",
        "        ]\n",
        "        completion = client.chat.completions.create(\n",
        "            messages=messages,\n",
        "            model=\"gpt-4o\",\n",
        "        )\n",
        "\n",
        "        # Write the question and response to the CSV file\n",
        "        writer.writerow([question, completion.choices[0].message.content])\n",
        "\n",
        "        # Print the question and response\n",
        "        print(f\"Question: {question}\")\n",
        "        print(f\"Response: {completion.choices[0].message.content}\")"
      ]
    }
  ],
  "metadata": {
    "colab": {
      "gpuType": "T4",
      "machine_shape": "hm",
      "provenance": []
    },
    "kernelspec": {
      "display_name": "Python 3",
      "name": "python3"
    },
    "language_info": {
      "name": "python"
    }
  },
  "nbformat": 4,
  "nbformat_minor": 0
}